{
 "cells": [
  {
   "cell_type": "code",
   "execution_count": 2,
   "metadata": {},
   "outputs": [
    {
     "data": {
      "text/plain": [
       "Generator(\n",
       "  (f1): Linear(in_features=1, out_features=6, bias=True)\n",
       "  (f1batchnorm): BatchNorm1d(6, eps=1e-05, momentum=0.1, affine=True, track_running_stats=True)\n",
       "  (linear): Linear(in_features=106, out_features=131072, bias=True)\n",
       "  (batchnorm1d): BatchNorm1d(131072, eps=1e-05, momentum=0.1, affine=True, track_running_stats=True)\n",
       "  (lrelu): LeakyReLU(negative_slope=0.2)\n",
       "  (cnnt1): Sequential(\n",
       "    (0): ConvTranspose3d(256, 128, kernel_size=(4, 4, 4), stride=(2, 2, 2), padding=(1, 1, 1))\n",
       "    (1): BatchNorm3d(128, eps=1e-05, momentum=0.1, affine=True, track_running_stats=True)\n",
       "    (2): LeakyReLU(negative_slope=0.2)\n",
       "  )\n",
       "  (cnnt2): Sequential(\n",
       "    (0): ConvTranspose3d(128, 64, kernel_size=(4, 4, 4), stride=(2, 2, 2), padding=(1, 1, 1))\n",
       "    (1): BatchNorm3d(64, eps=1e-05, momentum=0.1, affine=True, track_running_stats=True)\n",
       "    (2): LeakyReLU(negative_slope=0.2)\n",
       "  )\n",
       "  (cnnt3): Sequential(\n",
       "    (0): ConvTranspose3d(64, 32, kernel_size=(4, 4, 4), stride=(2, 2, 2), padding=(1, 1, 1))\n",
       "    (1): BatchNorm3d(32, eps=1e-05, momentum=0.1, affine=True, track_running_stats=True)\n",
       "    (2): LeakyReLU(negative_slope=0.2)\n",
       "  )\n",
       "  (cnnt4): Sequential(\n",
       "    (0): ConvTranspose3d(32, 1, kernel_size=(4, 4, 4), stride=(2, 2, 2), padding=(1, 1, 1))\n",
       "    (1): Tanh()\n",
       "  )\n",
       ")"
      ]
     },
     "execution_count": 2,
     "metadata": {},
     "output_type": "execute_result"
    }
   ],
   "source": [
    "from model import Generator\n",
    "import torch\n",
    "gen = Generator(embed_size=6)\n",
    "torch.manual_seed(7)\n",
    "gen.load_state_dict(torch.load(\"cgan0620.pth\",map_location=torch.device('cpu')))\n",
    "gen.eval()"
   ]
  },
  {
   "attachments": {},
   "cell_type": "markdown",
   "metadata": {},
   "source": [
    "#### An example of GAN inference"
   ]
  },
  {
   "cell_type": "code",
   "execution_count": 3,
   "metadata": {},
   "outputs": [
    {
     "data": {
      "text/plain": [
       "<matplotlib.image.AxesImage at 0x7f32d2edad30>"
      ]
     },
     "execution_count": 3,
     "metadata": {},
     "output_type": "execute_result"
    },
    {
     "data": {
      "image/png": "[encoded data removed]",
      "text/plain": [
       "<Figure size 432x288 with 1 Axes>"
      ]
     },
     "metadata": {
      "needs_background": "light"
     },
     "output_type": "display_data"
    }
   ],
   "source": [
    "from matplotlib import pyplot as plt\n",
    "\n",
    "def img_prc(img):\n",
    "    img = img.detach().cpu()\n",
    "    img = img.numpy()\n",
    "    return img>0.5\n",
    "\n",
    "torch.manual_seed(7)\n",
    "img_num = 4\n",
    "z = torch.randn(img_num,100)\n",
    "f = torch.ones(img_num,1)*0.2\n",
    "input_gen = (z,f)\n",
    "\n",
    "img_fake = gen(z,f)\n",
    "img_fake = img_prc(img_fake)\n",
    "plt.imshow(img_fake[0,0,0,::],cmap='gray')\n"
   ]
  },
  {
   "attachments": {},
   "cell_type": "markdown",
   "metadata": {},
   "source": [
    "#### tracking GAN inference time for each generation process"
   ]
  },
  {
   "cell_type": "code",
   "execution_count": 4,
   "metadata": {},
   "outputs": [
    {
     "name": "stdout",
     "output_type": "stream",
     "text": [
      "GAN inference at current epoch is 875.369 millisecond\n",
      "GAN inference at current epoch is 940.02 millisecond\n",
      "GAN inference at current epoch is 759.636 millisecond\n",
      "GAN inference at current epoch is 891.893 millisecond\n",
      "GAN inference at current epoch is 778.379 millisecond\n",
      "GAN inference at current epoch is 779.181 millisecond\n",
      "GAN inference at current epoch is 758.778 millisecond\n",
      "GAN inference at current epoch is 807.169 millisecond\n"
     ]
    }
   ],
   "source": [
    "import numpy as np\n",
    "import datetime\n",
    "img_num = 5\n",
    "\n",
    "for phi in range(10,50,5):\n",
    "    start = datetime.datetime.now()\n",
    "    z = torch.randn(img_num,100)\n",
    "    f = torch.ones(img_num,1)*(phi/100)\n",
    "    img_fake = gen(z,f)\n",
    "    end = datetime.datetime.now()\n",
    "    time_interval = (end - start).microseconds\n",
    "    print(f'GAN inference at current epoch is {time_interval/1000} millisecond')\n",
    "    \n"
   ]
  },
  {
   "cell_type": "code",
   "execution_count": null,
   "metadata": {},
   "outputs": [],
   "source": []
  }
 ],
 "metadata": {
  "kernelspec": {
   "display_name": "torch1",
   "language": "python",
   "name": "python3"
  },
  "language_info": {
   "codemirror_mode": {
    "name": "ipython",
    "version": 3
   },
   "file_extension": ".py",
   "mimetype": "text/x-python",
   "name": "python",
   "nbconvert_exporter": "python",
   "pygments_lexer": "ipython3",
   "version": "3.9.7"
  },
  "orig_nbformat": 4,
  "vscode": {
   "interpreter": {
    "hash": "1c3ae44621d6bbdee972eb25cda7721efdcbc4cc0034eaf8dc02936278f5cf58"
   }
  }
 },
 "nbformat": 4,
 "nbformat_minor": 2
}
